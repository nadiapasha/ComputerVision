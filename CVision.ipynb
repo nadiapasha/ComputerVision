{
 "cells": [
  {
   "cell_type": "code",
   "execution_count": 26,
   "id": "264645dc",
   "metadata": {},
   "outputs": [],
   "source": [
    "import csv\n",
    "import cv2\n",
    "import numpy as np\n",
    "from PIL import Image\n",
    "import os\n",
    "import matplotlib.pyplot as plt\n",
    "from matplotlib.pyplot import imshow\n",
    "from sklearn.decomposition import PCA\n",
    "from mat4py import loadmat\n",
    "import sklearn\n",
    "import scipy\n",
    "import networkx as nx\n",
    "import pandas as pd\n",
    "from sklearn.neural_network import MLPClassifier\n",
    "from sklearn.metrics import accuracy_score"
   ]
  },
  {
   "cell_type": "code",
   "execution_count": 3,
   "id": "8fd2f690",
   "metadata": {},
   "outputs": [],
   "source": [
    "df = pd.read_csv(\"fashion-mnist_train.csv\")"
   ]
  },
  {
   "cell_type": "code",
   "execution_count": 4,
   "id": "edeef680",
   "metadata": {},
   "outputs": [],
   "source": [
    "#df.head()"
   ]
  },
  {
   "cell_type": "code",
   "execution_count": 5,
   "id": "58f5d5f5",
   "metadata": {},
   "outputs": [],
   "source": [
    "M = df.to_numpy() #M is 5x785 !!!where first column is labels!!!  28x28 pixel images"
   ]
  },
  {
   "cell_type": "code",
   "execution_count": 7,
   "id": "f66d1611",
   "metadata": {},
   "outputs": [
    {
     "data": {
      "text/plain": [
       "(60000, 785)"
      ]
     },
     "execution_count": 7,
     "metadata": {},
     "output_type": "execute_result"
    }
   ],
   "source": [
    "M.shape"
   ]
  },
  {
   "cell_type": "code",
   "execution_count": 9,
   "id": "cf1518ee",
   "metadata": {},
   "outputs": [
    {
     "data": {
      "image/png": "[encoded data removed]",
      "text/plain": [
       "<Figure size 432x288 with 1 Axes>"
      ]
     },
     "metadata": {
      "needs_background": "light"
     },
     "output_type": "display_data"
    }
   ],
   "source": [
    "x0 = np.reshape(M[0,1:], (28, 28))\n",
    "plt.imshow(x0, cmap ='gray')\n",
    "plt.show()"
   ]
  },
  {
   "cell_type": "code",
   "execution_count": 20,
   "id": "14a42898",
   "metadata": {},
   "outputs": [],
   "source": [
    "train_matrix = M[:,1:] # matrix where each column is an image First column is label so exclude that"
   ]
  },
  {
   "cell_type": "code",
   "execution_count": 21,
   "id": "d30ce132",
   "metadata": {},
   "outputs": [
    {
     "data": {
      "text/plain": [
       "(60000, 784)"
      ]
     },
     "execution_count": 21,
     "metadata": {},
     "output_type": "execute_result"
    }
   ],
   "source": [
    "train_matrix.shape"
   ]
  },
  {
   "cell_type": "code",
   "execution_count": 22,
   "id": "aa90ec88",
   "metadata": {},
   "outputs": [],
   "source": [
    "y = M[:,0] # labels for images"
   ]
  },
  {
   "cell_type": "code",
   "execution_count": 60,
   "id": "98ad612a",
   "metadata": {},
   "outputs": [
    {
     "data": {
      "text/plain": [
       "array([0, 1, 2, 3, 4, 5, 6, 7, 8, 9])"
      ]
     },
     "execution_count": 60,
     "metadata": {},
     "output_type": "execute_result"
    }
   ],
   "source": [
    "np.unique(y)"
   ]
  },
  {
   "cell_type": "code",
   "execution_count": 24,
   "id": "053480a5",
   "metadata": {},
   "outputs": [],
   "source": [
    "# test data\n",
    "df = pd.read_csv(\"fashion-mnist_test.csv\")\n",
    "Mtest = df.to_numpy()\n",
    "test_matrix = Mtest[:,1:]\n",
    "y_true = Mtest[:,0]"
   ]
  },
  {
   "cell_type": "code",
   "execution_count": null,
   "id": "4d103dd1",
   "metadata": {},
   "outputs": [],
   "source": [
    "### Models"
   ]
  },
  {
   "cell_type": "code",
   "execution_count": 85,
   "id": "2483a25a",
   "metadata": {},
   "outputs": [
    {
     "data": {
      "text/plain": [
       "MLPClassifier(alpha=1e-05, hidden_layer_sizes=(20, 10), max_iter=1000,\n",
       "              random_state=1)"
      ]
     },
     "execution_count": 85,
     "metadata": {},
     "output_type": "execute_result"
    }
   ],
   "source": [
    "clf = MLPClassifier(solver='adam', alpha=1e-5,\n",
    "                     hidden_layer_sizes=(20,10), random_state=1,max_iter=1000)\n",
    "clf.fit(train_matrix, y)"
   ]
  },
  {
   "cell_type": "code",
   "execution_count": 86,
   "id": "94a99b5b",
   "metadata": {},
   "outputs": [],
   "source": [
    "y_pred = clf.predict(test_matrix)"
   ]
  },
  {
   "cell_type": "code",
   "execution_count": 87,
   "id": "3e91595e",
   "metadata": {},
   "outputs": [],
   "source": [
    "score = accuracy_score(y_true,y_pred)"
   ]
  },
  {
   "cell_type": "code",
   "execution_count": 88,
   "id": "a15a0926",
   "metadata": {},
   "outputs": [
    {
     "data": {
      "text/plain": [
       "0.8378"
      ]
     },
     "execution_count": 88,
     "metadata": {},
     "output_type": "execute_result"
    }
   ],
   "source": [
    "score"
   ]
  },
  {
   "cell_type": "markdown",
   "id": "9680f932",
   "metadata": {},
   "source": [
    "#### Results"
   ]
  },
  {
   "cell_type": "markdown",
   "id": "cb3a9521",
   "metadata": {},
   "source": [
    "lbfsd:  \n",
    "(40,30): gives 53% accuracy  \n",
    "adam:  \n",
    "(40,30) gives 80%  \n",
    "(20,10) gives 84%  \n",
    "(80,10) gives 87% note there are 10 labels and I used 10 nodes in last layer\n",
    "(100, 10) gives 10%  !!!!!????\n",
    "(60,10) gives 86%\n",
    "(50,10) gives 87%  \n",
    "(40,10) gives 86.1%  \n",
    "(30,10) gives 85.8%\n",
    "sgd:  \n",
    "(20,10) gives 10% was very fast\n",
    "(40,30) gives 10% was very fast\n",
    "  \n",
    "    \n",
    "**analysis of solver, alpha and hidden_layer_sized**  \n",
    "hidden_layer_size is a tuple, length of tuple is the number of layers and ith entry gives nodes in ith layer (150,200,100) means 3 layers with 150 nodes in first layer, 200 insecond and 100 in third layer."
   ]
  },
  {
   "cell_type": "markdown",
   "id": "30695d27",
   "metadata": {},
   "source": [
    "## Notes:  \n",
    "One way is to stick to Multi-layer Perceptron classifier and keep experinemting with layer sizes and solver  \n",
    "The other option should be to use different neural networks like CNNs and ResNets ets"
   ]
  },
  {
   "cell_type": "code",
   "execution_count": null,
   "id": "39db05f3",
   "metadata": {},
   "outputs": [],
   "source": []
  }
 ],
 "metadata": {
  "kernelspec": {
   "display_name": "Python 3 (ipykernel)",
   "language": "python",
   "name": "python3"
  },
  "language_info": {
   "codemirror_mode": {
    "name": "ipython",
    "version": 3
   },
   "file_extension": ".py",
   "mimetype": "text/x-python",
   "name": "python",
   "nbconvert_exporter": "python",
   "pygments_lexer": "ipython3",
   "version": "3.9.9"
  }
 },
 "nbformat": 4,
 "nbformat_minor": 5
}
